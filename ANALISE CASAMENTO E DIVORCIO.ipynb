{
 "cells": [
  {
   "cell_type": "markdown",
   "metadata": {},
   "source": [
    "ESTATÍSTICAS DO REGISTRO CIVIL\n",
    "\n",
    "\n",
    "As Estatísticas do Registro Civil apresentam informações sobre os fatos vitais ocorridos no País, reunindo a totalidade dos registros de nascidos vivos, óbitos e óbitos fetais, bem como sobre os casamentos, informados pelos Cartórios de Registro Civil de Pessoas Naturais, e os divórcios declarados pelas Varas de Família, Foros, Varas Cíveis e Tabelionatos.\n",
    "\n",
    "1. Definição dos Problemas\n",
    "\n",
    "INFORMAÇÕES IMPORTANTES:\n",
    "\n",
    "TABELA 1: Casamentos entre cônjuges masculino e feminino\n",
    "\n",
    "TABELA 2: Escrituras de divórcio\n",
    "\n",
    "Problema 1\n",
    "Com o decorrer do tempo, entre os anos de 2007 e 2013, estamos interessados em analisar como evoluiu o número de casamentos entre cônjuges masculino e feminino no território nacional.\n",
    "\n",
    "HIPÓTESE 1 (TABELA 1)\n",
    "\n",
    "Com o decorrer do tempo, o número de casamentos entre cônjuges masculino e feminino, em cada uma das regiões brasileiras, aumentou, diminuiu ou permaneceu estável?\n",
    "\n",
    "Problema 2\n",
    "De maneira semelhante, entre os anos de 2007 e 2013, desejamos investigar como variou o número de escrituras de divórcio no território nacional.\n",
    "\n",
    "HIPÓTESE 2 (TABELA 2)\n",
    "\n",
    "Com o decorrer do tempo, o número de escrituras de divórcio, em cada uma das regiões brasileiras, aumentou, diminuiu ou permaneceu estável?\n",
    "\n",
    "Os dados de Estatisticas do Registro Civil foram colatados do site do SIDRA, onde foi gerada uma tabela com os dados\n",
    "\n",
    "2. Obtenção:\n",
    "\n",
    "Os dados foram obtidos através da plataforma SIDRA do IBGE no campo dos Registros Civis, com a seleção de duas tabelas específicas: uma referente aos casamentos entre cônjuges masculino e feminino e outra relacionada às escrituras de divórcio. A análise dessas tabelas visa identificar como as variáveis escolhidas, casamentos e divórcios, se comportaram ao longo dos anos no Brasil.\n",
    "\n",
    "3. Checagem:\n",
    "Os dados obtidos foram verificados e analisados para assegurar a ausência de valores discrepantes ao longo dos anos. Esse processo garantiu que as tendências e padrões identificados refletissem com precisão a realidade dos registros civis no Brasil, proporcionando uma análise mais confiável e representativa.\n",
    "\n",
    "4. Agrupamento dos dados:\n",
    "Os dados foram agrupados a partir das duas tabelas baixadas e foi desenvolvido dois códigos em Python para processar e analisar cada uma dessas informações.\n",
    "\n"
   ]
  },
  {
   "cell_type": "markdown",
   "metadata": {},
   "source": [
    "TABELA 1: Casamentos entre cônjuges masculino e feminino"
   ]
  },
  {
   "cell_type": "code",
   "execution_count": 4,
   "metadata": {},
   "outputs": [
    {
     "name": "stdout",
     "output_type": "stream",
     "text": [
      "Colunas originais: Index(['Unnamed: 0', 'Unnamed: 1', 'Unnamed: 2', 'Total', 'Total.1', 'Total.2',\n",
      "       'Total.3', 'Total.4', 'Total.5', 'Total.6'],\n",
      "      dtype='object')\n"
     ]
    }
   ],
   "source": [
    "import tkinter as tk\n",
    "from tkinter import scrolledtext\n",
    "import pandas as pd\n",
    "\n",
    "# Função para exibir o DataFrame\n",
    "def exibir_dataframe():\n",
    "    # Carregando o DataFrame do arquivo enviado. O 'tabela2759.xlsx' é o nome do arquivo Excel que está no meu computador ou no próprio colab. Nele contém os dados que serão usados\n",
    "    file_path = 'tabela2759.xlsx'\n",
    "    \n",
    "    # Lê o arquivo Excel e seleciona a planilha 'Tabela', ignorando as primeiras 5 linhas\n",
    "    df = pd.read_excel(file_path, sheet_name='Tabela', skiprows=5)\n",
    "    \n",
    "    # Exibe as colunas originais do DataFrame no console\n",
    "    print(\"Colunas originais:\", df.columns)\n",
    "    \n",
    "    # Filtra os dados da tabela e mostrar apenas as informações da região 'Nordeste'\n",
    "    nordeste_data = df[df['Unnamed: 0'] == 'Nordeste']\n",
    "    \n",
    "    # Renomeia as colunas para refletir os anos correspondentes\n",
    "    nordeste_data.columns = ['Região', 'Tipo de Dados', '2007', '2008', '2009', '2010', '2011', '2012', '2013', 'Outra Coluna']\n",
    "    \n",
    "    # Remove as colunas 'Tipo de Dados' e 'Outra Coluna', pois não serão necessárias na 'exibição'\n",
    "    nordeste_data = nordeste_data.drop(columns=['Tipo de Dados', 'Outra Coluna'])\n",
    "    \n",
    "    # Aqui ele rezeta o índice para começar do zero\n",
    "    nordeste_data.reset_index(drop=True, inplace=True)\n",
    "    \n",
    "    # Cria uma janela para exibir as informações\n",
    "    root = tk.Tk()\n",
    "    root.title(\"Exibição do DataFrame\")\n",
    "    \n",
    "    # Cria uma área de txt dentro da janela\n",
    "    text_area = scrolledtext.ScrolledText(root, width=100, height=20)\n",
    "    text_area.pack(padx=10, pady=10)\n",
    "    \n",
    "    # Insere os dados do DataFrame na área de texto e converte o para string para exibir em forma 'txt'\n",
    "    text_area.insert(tk.INSERT, nordeste_data.to_string(index=False))\n",
    "    \n",
    "    # Impede que o texto seja editado pelo usuário (medida de segurança)\n",
    "    text_area.configure(state='disabled')\n",
    "    \n",
    "    # Inicia o loop principal da interface gráfica para exibir a janela\n",
    "    root.mainloop()\n",
    "\n",
    "\n",
    "exibir_dataframe()"
   ]
  },
  {
   "cell_type": "markdown",
   "metadata": {},
   "source": [
    "TABELA 2: Escrituras de divórcio"
   ]
  },
  {
   "cell_type": "code",
   "execution_count": 5,
   "metadata": {},
   "outputs": [],
   "source": [
    "import tkinter as tk\n",
    "from tkinter import scrolledtext\n",
    "import pandas as pd\n",
    "\n",
    "# Função para exibir o DataFrame\n",
    "def exibir_dataframe():\n",
    "    # Carregar o DataFrame do arquivo'tabela1004(2).xlsx'. Esse é o nome do arquivo Excel que contém os dados. No caso, ele estará no próprio colab ou no meu computador\n",
    "    file_path = 'tabela1004(2).xlsx'\n",
    "    \n",
    "    # Lê o arquivo Excel e seleciona a planilha 'Tabela', ignorando as primeiras 5 linhas\n",
    "    df = pd.read_excel(file_path, sheet_name='Tabela', skiprows=5)\n",
    "    \n",
    "    # Filtra os dados da tabela para mostrar apenas as informações da região 'Nordeste'\n",
    "    nordeste_data = df[df['Unnamed: 0'] == 'Nordeste']\n",
    "    \n",
    "    # Renomeia as colunas para algo mais compreensível, porque se não pode acontecer que o usuário não entenda as colunas direito\n",
    "    nordeste_data.columns = ['Região', 'Tipo de Dados', '2007', '2008', '2009', '2010', '2011', '2012', '2013']\n",
    "    \n",
    "    # Remove a coluna 'Tipo de Dados', pois não será necessária na exibição\n",
    "    nordeste_data = nordeste_data.drop(columns=['Tipo de Dados'])\n",
    "    \n",
    "    # Rezeta o índice para que ele comece do zero\n",
    "    nordeste_data.reset_index(drop=True, inplace=True)\n",
    "    \n",
    "    # Cria uma janela para exibir os dados\n",
    "    root = tk.Tk()\n",
    "    root.title(\"Exibição do DataFrame\")\n",
    "    \n",
    "    # Cria uma área de texto dentro da janela\n",
    "    text_area = scrolledtext.ScrolledText(root, width=100, height=20)\n",
    "    text_area.pack(padx=10, pady=10)\n",
    "    \n",
    "    # Insere os dados do DataFrame na área de texto e convertendo o DataFrame para string para exibição\n",
    "    text_area.insert(tk.INSERT, nordeste_data.to_string(index=False))\n",
    "    \n",
    "    # Impede que o texto seja editado pelo usuário (para que ele não consiga alterar as informações)\n",
    "    text_area.configure(state='disabled')\n",
    "    \n",
    "    # Inicia a interface gráfica\n",
    "    root.mainloop()\n",
    "\n",
    "# Chama a função para exibir o DataFrame\n",
    "exibir_dataframe()"
   ]
  }
 ],
 "metadata": {
  "kernelspec": {
   "display_name": "Python 3",
   "language": "python",
   "name": "python3"
  },
  "language_info": {
   "codemirror_mode": {
    "name": "ipython",
    "version": 3
   },
   "file_extension": ".py",
   "mimetype": "text/x-python",
   "name": "python",
   "nbconvert_exporter": "python",
   "pygments_lexer": "ipython3",
   "version": "3.11.9"
  }
 },
 "nbformat": 4,
 "nbformat_minor": 2
}
